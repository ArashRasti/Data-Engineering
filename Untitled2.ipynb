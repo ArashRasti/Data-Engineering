{
  "nbformat": 4,
  "nbformat_minor": 0,
  "metadata": {
    "colab": {
      "name": "Untitled2.ipynb",
      "provenance": [],
      "authorship_tag": "ABX9TyNUVl284AaLnmXdZ5Aokq3w",
      "include_colab_link": true
    },
    "kernelspec": {
      "name": "python3",
      "display_name": "Python 3"
    },
    "language_info": {
      "name": "python"
    }
  },
  "cells": [
    {
      "cell_type": "markdown",
      "metadata": {
        "id": "view-in-github",
        "colab_type": "text"
      },
      "source": [
        "<a href=\"https://colab.research.google.com/github/ArashRasti/Data-Engineering/blob/main/Untitled2.ipynb\" target=\"_parent\"><img src=\"https://colab.research.google.com/assets/colab-badge.svg\" alt=\"Open In Colab\"/></a>"
      ]
    },
    {
      "cell_type": "markdown",
      "metadata": {
        "id": "Be4ftb2qXOCM"
      },
      "source": [
        "**Overview of the Data Engineering Ecosystem**"
      ]
    },
    {
      "cell_type": "markdown",
      "metadata": {
        "id": "Vo1JYNWnYWxA"
      },
      "source": [
        "Data Ecosystem:\n"
      ]
    }
  ]
}